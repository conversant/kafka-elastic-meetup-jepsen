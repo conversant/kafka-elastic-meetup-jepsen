{
 "cells": [
  {
   "cell_type": "markdown",
   "metadata": {},
   "source": [
    "# Create <b>ipinyou</b> Kafka topic"
   ]
  },
  {
   "cell_type": "markdown",
   "metadata": {},
   "source": [
    "In this notebook, we will be programmatically creating a Kafka topic to which we will later produce the raw IPinYou Avro data."
   ]
  },
  {
   "cell_type": "markdown",
   "metadata": {},
   "source": [
    "<hr>\n",
    "#### Import packages"
   ]
  },
  {
   "cell_type": "code",
   "execution_count": null,
   "metadata": {},
   "outputs": [],
   "source": [
    "import collection.JavaConverters._\n",
    "\n",
    "import java.util\n",
    "import java.util.Properties\n",
    "\n",
    "import org.apache.kafka.clients.admin._\n",
    "import org.apache.kafka.common.KafkaFuture"
   ]
  },
  {
   "cell_type": "markdown",
   "metadata": {},
   "source": [
    "#### Establish where to connect to Kafka"
   ]
  },
  {
   "cell_type": "code",
   "execution_count": null,
   "metadata": {},
   "outputs": [],
   "source": [
    "val props = new Properties()\n",
    "props.setProperty(AdminClientConfig.BOOTSTRAP_SERVERS_CONFIG, \"broker:9092\")"
   ]
  },
  {
   "cell_type": "markdown",
   "metadata": {},
   "source": [
    "#### Define the topic properties"
   ]
  },
  {
   "cell_type": "code",
   "execution_count": null,
   "metadata": {},
   "outputs": [],
   "source": [
    "val adminClient = AdminClient.create(props)\n",
    "val numPartitions = 1\n",
    "val replicationFactor = 1.toShort\n",
    "val topicName = \"ipinyou\"\n",
    "val newTopic = new NewTopic(topicName, numPartitions, replicationFactor)"
   ]
  },
  {
   "cell_type": "code",
   "execution_count": null,
   "metadata": {},
   "outputs": [],
   "source": [
    "adminClient.createTopics(List(newTopic).asJavaCollection)"
   ]
  },
  {
   "cell_type": "markdown",
   "metadata": {},
   "source": [
    "#### Validate the topic was created"
   ]
  },
  {
   "cell_type": "code",
   "execution_count": null,
   "metadata": {},
   "outputs": [],
   "source": [
    "val currentTopics = adminClient.listTopics(new ListTopicsOptions().timeoutMs(500).listInternal(true)).names.get()\n",
    "\n",
    "if (currentTopics.contains(topicName)) {\n",
    "    println(f\"The $topicName%s topic was successfully created!\")\n",
    "} else {\n",
    "    println(f\"The $topicName%s topic was not created :(\")\n",
    "}"
   ]
  },
  {
   "cell_type": "markdown",
   "metadata": {},
   "source": [
    "<hr>\n",
    "#### [3. Producing IPinYou data to Kafka](3. ipinyou_source.ipynb)"
   ]
  }
 ],
 "metadata": {
  "kernelspec": {
   "display_name": "Spark 2.2.1 - Scala",
   "language": "scala",
   "name": "spark_2.2.1_scala"
  },
  "language_info": {
   "file_extension": ".scala",
   "name": "scala",
   "version": "2.11.8"
  }
 },
 "nbformat": 4,
 "nbformat_minor": 2
}
