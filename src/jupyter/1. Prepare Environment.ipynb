{
 "cells": [
  {
   "cell_type": "markdown",
   "metadata": {},
   "source": [
    "# Prepare environment"
   ]
  },
  {
   "cell_type": "markdown",
   "metadata": {},
   "source": [
    "In this notebook we will be setting up the environment necessary for the rest of the demo."
   ]
  },
  {
   "cell_type": "markdown",
   "metadata": {},
   "source": [
    "<hr>\n",
    "#### Inject the spark-avro package needed to aggregate IPinYou Avro data with Spark"
   ]
  },
  {
   "cell_type": "code",
   "execution_count": null,
   "metadata": {},
   "outputs": [],
   "source": [
    "echo \"spark.jars                          /cnvr/spark-avro/spark-avro_2.11-0.1.jar\" \\\n",
    "    >> ${SPARK_HOME}/conf/spark-defaults.conf"
   ]
  },
  {
   "cell_type": "code",
   "execution_count": null,
   "metadata": {},
   "outputs": [],
   "source": [
    "cat ${SPARK_HOME}/conf/spark-defaults.conf"
   ]
  },
  {
   "cell_type": "markdown",
   "metadata": {},
   "source": [
    "<hr>\n",
    "#### Prepare Kafka Connect to talk with Elasticsearch"
   ]
  },
  {
   "cell_type": "code",
   "execution_count": null,
   "metadata": {},
   "outputs": [],
   "source": [
    "curl -X POST -H \"Content-Type: application/json\" \\\n",
    "     --data '{\"name\" : \"elasticsearch-sink\", \"config\" : {\"connector.class\" : \"io.confluent.connect.elasticsearch.ElasticsearchSinkConnector\", \"tasks.max\" : \"1\", \"topics\" : \"ipinyou-agg\" , \"key.ignore\" : \"true\", \"connection.url\" : \"http://elasticsearch:9200\", \"type.name\" : \"kafka-connect\", \"name\" : \"elasticsearch-sink\"}}' \\\n",
    "     connect:8083/connectors"
   ]
  },
  {
   "cell_type": "markdown",
   "metadata": {},
   "source": [
    "Verify the elasticsearch connector has been configured here:\n",
    "\n",
    "[Kafka Connectors](http://localhost:8083/connectors)"
   ]
  },
  {
   "cell_type": "markdown",
   "metadata": {},
   "source": [
    "<hr>\n",
    "#### Add explicit field mappings to **ipinyou-agg** index\n",
    "\n",
    "The Kafka Elasticsearch Connector automatically creates a Kafka topic as well as an elasticsearch index named <b>ipinyou-agg</b>, however the index does not contain our desired field mappings."
   ]
  },
  {
   "cell_type": "code",
   "execution_count": null,
   "metadata": {},
   "outputs": [],
   "source": [
    "curl -X GET 'elasticsearch:9200/ipinyou-agg?pretty'"
   ]
  },
  {
   "cell_type": "markdown",
   "metadata": {},
   "source": [
    "We will add explicit mappings for 3 fields:\n",
    "\n",
    "* ad_exchange (integer)\n",
    "* count (integer)\n",
    "* ten_second_floor (date in yyyy-MM-dd HH:mm:ss format)"
   ]
  },
  {
   "cell_type": "code",
   "execution_count": null,
   "metadata": {},
   "outputs": [],
   "source": [
    "curl -XPUT 'elasticsearch:9200/ipinyou-agg/_mapping/kafka-connect?pretty' -H 'Content-Type: application/json' -d '{\n",
    "    \"properties\" : {\n",
    "        \"ad_exchange\" : { \"type\" : \"integer\" },\n",
    "        \"count\" : { \"type\" : \"integer\" },\n",
    "        \"ten_second_floor\" : {\n",
    "            \"type\" : \"date\",\n",
    "            \"format\" : \"yyyy-MM-dd HH:mm:ss\"\n",
    "        }\n",
    "    }\n",
    "}'"
   ]
  },
  {
   "cell_type": "code",
   "execution_count": null,
   "metadata": {},
   "outputs": [],
   "source": [
    "curl 'elasticsearch:9200/_cat/indices?v'"
   ]
  },
  {
   "cell_type": "markdown",
   "metadata": {},
   "source": [
    "<hr>\n",
    "#### [2. Create <b>ipinyou</b> Kafka topic](2. Create Topic.ipynb)"
   ]
  }
 ],
 "metadata": {
  "kernelspec": {
   "display_name": "Bash",
   "language": "bash",
   "name": "bash"
  },
  "language_info": {
   "codemirror_mode": "shell",
   "file_extension": ".sh",
   "mimetype": "text/x-sh",
   "name": "bash"
  }
 },
 "nbformat": 4,
 "nbformat_minor": 2
}
