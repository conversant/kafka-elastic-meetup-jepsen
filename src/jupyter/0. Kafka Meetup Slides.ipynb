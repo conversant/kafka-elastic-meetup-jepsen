{
 "cells": [
  {
   "cell_type": "markdown",
   "metadata": {
    "slideshow": {
     "slide_type": "slide"
    }
   },
   "source": [
    "# High-speed Data Visualization:\n",
    "# Kafka meets Elasticsearch\n",
    "<br>\n",
    "\n",
    "<img src=\"http://engineering.conversantmedia.com/assets/images/engineering_logo.png\" width=\"500\" align=\"left\">\n",
    "\n",
    "<br clear=\"all\" />\n",
    "<br>\n",
    "<hr>\n",
    "\n",
    "**Presented by** Ryan Jepsen"
   ]
  },
  {
   "cell_type": "markdown",
   "metadata": {
    "slideshow": {
     "slide_type": "slide"
    }
   },
   "source": [
    "## Contributors\n",
    "\n",
    "* Will Duckworth – Sr VP Engineering, Ashburn VA\n",
    "* Ryan Jepsen – Software Engineer, Chicago, IL\n",
    "* Kamal Kang – Sr Software Engineer, Asburn VA\n",
    "* Shaun Litt – Pricinple Data Warehouse Architect, Chicago, IL\n",
    "* Peter Wojciechowski – Dir Software Engineering, Westlake Village, CA\n",
    "* Mike Keane – Dir Software Engineering, Chicago, IL\n",
    "\n",
    "<br>\n",
    "<br>\n",
    "<br>\n",
    "<img src=\"http://engineering.conversantmedia.com/assets/images/engineering_logo.png\" width=\"250\" align=\"right\">"
   ]
  },
  {
   "cell_type": "markdown",
   "metadata": {
    "slideshow": {
     "slide_type": "slide"
    }
   },
   "source": [
    "## Agenda\n",
    "\n",
    "* Jupyter\n",
    "* Dataset\n",
    "* Confluent 4.1\n",
    "* Apache Spark\n",
    "* Elasticsearch/Kibana\n",
    "* Live Demo\n",
    "\n",
    "<img src=\"high_speed_data_vis_diagram.jpg\" align=\"center\">\n",
    "<img src=\"http://engineering.conversantmedia.com/assets/images/engineering_logo.png\" width=\"250\" align=\"right\">"
   ]
  },
  {
   "cell_type": "markdown",
   "metadata": {
    "slideshow": {
     "slide_type": "slide"
    }
   },
   "source": [
    "## Jupyter\n",
    "\n",
    "* Open-source web application that allows you to create and share documents that contain live code, equations, visualizations and narrative text\n",
    "\n",
    "* Quickly test and implement new ideas, document findings, and share them with other users with ease\n",
    "\n",
    "* Supports a variety of interpreters\n",
    "\n",
    "<br>\n",
    "<br>\n",
    "<img src=\"http://engineering.conversantmedia.com/assets/images/engineering_logo.png\" width=\"250\" align=\"right\">"
   ]
  },
  {
   "cell_type": "markdown",
   "metadata": {
    "slideshow": {
     "slide_type": "slide"
    }
   },
   "source": [
    "## About the Dataset\n",
    "\n",
    "**iPinYou Global RTB Bidding Algorithm Competition Dataset**\n",
    "\n",
    "http://contest.ipinyou.com/\n",
    "\n",
    "<br>\n",
    "The raw iPinYou data comes in several TSV files each containing one of 4 different log types (Bid, Impression, Click and Conversion)\n",
    "\n",
    "<br>\n",
    "<br>\n",
    "<br>\n",
    "<img src=\"http://engineering.conversantmedia.com/assets/images/engineering_logo.png\" width=\"250\" align=\"right\">"
   ]
  },
  {
   "cell_type": "markdown",
   "metadata": {
    "slideshow": {
     "slide_type": "subslide"
    }
   },
   "source": [
    "For the purpose of this presentation/demo, we've merged the data into a single Avro Data File with the following schema:\n",
    "\n",
    "```json\n",
    "{\n",
    "\t\"type\":\"record\",\n",
    "\t\"name\":\"IPinYou\",\n",
    "\t\"namespace\":\"com.conversantmedia.cake.avro\",\n",
    "\t\"fields\":[\n",
    "\t\t{\"name\":\"bid_id\",\"type\":[\"string\",\"null\"]},\n",
    "\t\t{\"name\":\"timestamp\",\"type\":[\"double\",\"null\"]},\n",
    "\t\t{\"name\":\"log_type\",\"type\":[\"int\",\"null\"]},\n",
    "\t\t{\"name\":\"ipinyou_id\",\"type\":[\"string\",\"null\"]},\n",
    "\t\t{\"name\":\"user_agent\",\"type\":[\"string\",\"null\"]},\n",
    "\t\t{\"name\":\"ip_address\",\"type\":[\"string\",\"null\"]},\n",
    "\t\t{\"name\":\"region\",\"type\":[\"int\",\"null\"]},\n",
    "\t\t{\"name\":\"city\",\"type\":[\"int\",\"null\"]},\n",
    "\t\t{\"name\":\"ad_exchange\",\"type\":[\"int\",\"null\"]},\n",
    "\t\t{\"name\":\"domain\",\"type\":[\"string\",\"null\"]},\n",
    "\t\t{\"name\":\"url\",\"type\":[\"string\",\"null\"]},\n",
    "\t\t{\"name\":\"anonymous_url_id\",\"type\":[\"string\",\"null\"]},\n",
    "\t\t{\"name\":\"ad_slot_id\",\"type\":[\"string\",\"null\"]},\n",
    "\t\t{\"name\":\"ad_slot_width\",\"type\":[\"int\",\"null\"]},\n",
    "\t\t{\"name\":\"ad_slot_height\",\"type\":[\"int\",\"null\"]},\n",
    "\t\t{\"name\":\"ad_slot_visibility\",\"type\":[\"string\",\"null\"]},\n",
    "\t\t{\"name\":\"ad_slot_format\",\"type\":[\"string\",\"null\"]},\n",
    "\t\t{\"name\":\"ad_slot_floor_price\",\"type\":[\"int\",\"null\"]},\n",
    "\t\t{\"name\":\"creative_id\",\"type\":[\"string\",\"null\"]},\n",
    "\t\t{\"name\":\"bidding_price\",\"type\":[\"int\",\"null\"]},\n",
    "\t\t{\"name\":\"paying_price\",\"type\":[\"int\",\"null\"]},\n",
    "\t\t{\"name\":\"landing_page_url\",\"type\":[\"string\",\"null\"]},\n",
    "\t\t{\"name\":\"advertiser_id\",\"type\":[\"int\",\"null\"]},\n",
    "\t\t{\"name\":\"user_tags\",\"type\":[\"string\",\"null\"]}\n",
    "\t]\n",
    "}\n",
    "```\n",
    "\n",
    "If you want to learn more about the iPinYou dataset, please visit http://contest.ipinyou.com/ipinyou-dataset.pdf\n",
    "<br>\n",
    "<img src=\"http://engineering.conversantmedia.com/assets/images/engineering_logo.png\" width=\"250\" align=\"right\">"
   ]
  },
  {
   "cell_type": "markdown",
   "metadata": {
    "slideshow": {
     "slide_type": "slide"
    }
   },
   "source": [
    "## Confluent 4.1\n",
    "\n",
    "#### Components involved:\n",
    "\n",
    "* Kafka\n",
    "\n",
    "* Schema Registry\n",
    "\n",
    "* Kafka Connect\n",
    "\n",
    "* Zookeeper (as a dependency)\n",
    "\n",
    "<br>\n",
    "<img src=\"http://engineering.conversantmedia.com/assets/images/engineering_logo.png\" width=\"250\" align=\"right\">"
   ]
  },
  {
   "cell_type": "markdown",
   "metadata": {
    "slideshow": {
     "slide_type": "subslide"
    }
   },
   "source": [
    "## Kafka\n",
    "\n",
    "* Open-source, distributed stream-processing platform\n",
    "\n",
    "* Follows publish-subscribe architecture\n",
    "\n",
    "* Data is organized into topics, topics are split into partitions\n",
    "\n",
    "* Easy to integrate into other systems\n",
    "\n",
    "<br>\n",
    "<br>\n",
    "<img src=\"http://engineering.conversantmedia.com/assets/images/engineering_logo.png\" width=\"250\" align=\"right\">"
   ]
  },
  {
   "cell_type": "markdown",
   "metadata": {
    "slideshow": {
     "slide_type": "subslide"
    }
   },
   "source": [
    "## Schema Registry\n",
    "\n",
    "* Stores a versioned history of schemas for messages published to Kafka\n",
    "\n",
    "* Supports schema evolution, compatability is configurable\n",
    "\n",
    "* Safeguard against publishing data to Kafka with incompatible schemas\n",
    "\n",
    "* REST API for managing schema versions and compatability settings\n",
    "\n",
    "<br>\n",
    "<br>\n",
    "<br>\n",
    "<br>\n",
    "<img src=\"http://engineering.conversantmedia.com/assets/images/engineering_logo.png\" width=\"250\" align=\"right\">"
   ]
  },
  {
   "cell_type": "markdown",
   "metadata": {
    "slideshow": {
     "slide_type": "subslide"
    }
   },
   "source": [
    "## Kafka Connect\n",
    "\n",
    "* Service included in Apache Kafka to stream data between other systems\n",
    "\n",
    "* Easy to integrate Kafka into existing data pipelines\n",
    "\n",
    "* Confluent offers several connectors out of the box, but custom connectors can be created and integrated\n",
    "\n",
    "* Supports a REST API for managing connectors\n",
    "<br>\n",
    "<br>\n",
    "<br>\n",
    "<br>\n",
    "<img src=\"http://engineering.conversantmedia.com/assets/images/engineering_logo.png\" width=\"250\" align=\"right\">"
   ]
  },
  {
   "cell_type": "markdown",
   "metadata": {
    "slideshow": {
     "slide_type": "slide"
    }
   },
   "source": [
    "## Apache Spark\n",
    "\n",
    "* Open-source, distributed, unified multi-purpose engine for large-scale data processing\n",
    "\n",
    "* Easily integrates into other systems\n",
    "\n",
    "* Offers scalable and fault-tolerant stream processing via Structured Streaming\n",
    "\n",
    "<br>\n",
    "<br>\n",
    "<br>\n",
    "<br>\n",
    "<img src=\"http://engineering.conversantmedia.com/assets/images/engineering_logo.png\" width=\"250\" align=\"right\">"
   ]
  },
  {
   "cell_type": "markdown",
   "metadata": {
    "slideshow": {
     "slide_type": "slide"
    }
   },
   "source": [
    "## Elasticsearch\n",
    "\n",
    "* Open-source, distributed, full-text search engine built on top of Apache Lucene\n",
    "\n",
    "* Offers near real-time search\n",
    "\n",
    "* RESTful API\n",
    "\n",
    "* Document based, entities stored as structured JSON objects\n",
    "\n",
    "* Collection of similarly structured documents make up a searchable **index**\n",
    "\n",
    "* Easy to scale\n",
    "\n",
    "<img src=\"http://engineering.conversantmedia.com/assets/images/engineering_logo.png\" width=\"250\" align=\"right\">"
   ]
  },
  {
   "cell_type": "markdown",
   "metadata": {
    "slideshow": {
     "slide_type": "slide"
    }
   },
   "source": [
    "## Connecting Kafka to Elasticsearch\n",
    "\n",
    "#### Confluent Elasticsearch Connector\n",
    "* Writes data from a Kafka topic to an index in Elasticsearch\n",
    "\n",
    "* Each Kafka message on a topic is treated as an event and converted to a unique document in the associated index\n",
    "\n",
    "* Messages are consumed and immediately indexed, supporting near real-time analytics/visualzations in Kibana\n",
    "\n",
    "* Index mappings can be inferred from Schema Registry\n",
    "\n",
    "* Offers exactly-once delivery\n",
    "<img src=\"http://engineering.conversantmedia.com/assets/images/engineering_logo.png\" width=\"250\" align=\"right\">"
   ]
  },
  {
   "cell_type": "markdown",
   "metadata": {
    "slideshow": {
     "slide_type": "slide"
    }
   },
   "source": [
    "## If you want to learn more...\n",
    "\n",
    "* iPinYou Competition - http://contest.ipinyou.com/\n",
    "\n",
    "* Apache Kafka - https://kafka.apache.org/\n",
    "\n",
    "* Apache Spark - https://spark.apache.org/\n",
    "\n",
    "* Confluent - https://www.confluent.io/\n",
    "\n",
    "* Elastic - https://www.elastic.co/\n",
    "\n",
    "<br>\n",
    "<img src=\"http://engineering.conversantmedia.com/assets/images/engineering_logo.png\" width=\"250\" align=\"right\">"
   ]
  },
  {
   "cell_type": "markdown",
   "metadata": {
    "slideshow": {
     "slide_type": "slide"
    }
   },
   "source": [
    "## Live Demo!\n",
    "\n",
    "<br>\n",
    "<br>\n",
    "\n",
    "### [JupyterLab](http://localhost:8888/lab)\n",
    "\n",
    "<br>\n",
    "<br>\n",
    "<br>\n",
    "<br>\n",
    "<br>\n",
    "<img src=\"http://engineering.conversantmedia.com/assets/images/engineering_logo.png\" width=\"250\" align=\"right\">"
   ]
  }
 ],
 "metadata": {
  "celltoolbar": "Slideshow",
  "kernelspec": {
   "display_name": "Bash",
   "language": "bash",
   "name": "bash"
  },
  "language_info": {
   "codemirror_mode": "shell",
   "file_extension": ".sh",
   "mimetype": "text/x-sh",
   "name": "bash"
  }
 },
 "nbformat": 4,
 "nbformat_minor": 2
}
